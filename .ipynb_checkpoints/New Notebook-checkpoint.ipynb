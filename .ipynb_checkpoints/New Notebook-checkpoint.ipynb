{
 "cells": [
  {
   "cell_type": "code",
   "execution_count": 1,
   "metadata": {},
   "outputs": [],
   "source": [
    "import arcpy\n",
    "import pandas as pd\n",
    "import geopandas as gpd"
   ]
  },
  {
   "cell_type": "code",
   "execution_count": 2,
   "metadata": {},
   "outputs": [
    {
     "name": "stdout",
     "output_type": "stream",
     "text": [
      "Feature Classes in the Geodatabase:\n",
      "Polygons_2\n",
      "WorldImagery_DetectObjectsUs\n",
      "Polygons_2_1\n",
      "WorldImagery_DetectObjectsUs1\n",
      "Polygons_2_2\n",
      "WorldImagery_DetectObjectsUs2\n",
      "limits_JSONToFeatures\n",
      "citylimits_JSONToFeatures\n",
      "citylimits_JSONToFeatur_Clip\n",
      "Park_Boundarie_JSONToFeature\n",
      "neighborhoods\n",
      "Healthy_Streets\n",
      "Parks_Intersect\n",
      "Parks_Boundary_out_Intersect\n",
      "Polygons_2_3\n",
      "fishnet_park_Intersect\n",
      "fishnet_park_Inter_Intersect\n",
      "fishnet_park_Inter_Intersect1\n",
      "Walkability\n",
      "Polygons_2_4\n",
      "Polygons_2_5\n",
      "fishnet_inter\n",
      "citylimits\n",
      "fishnet_Intersect\n",
      "fishnet_Intersect1\n",
      "Parks_Boundary_out_Intersect1\n",
      "Park_Boundarie_JSONToFeature1\n",
      "Parks_SPR_Merge\n",
      "Parks_Merge\n",
      "Parks_Merge_Intersect\n",
      "Parks_Merge_Intersect1\n",
      "fishnet_Intersect2\n",
      "Polygons_2_6\n",
      "Polygons_2_7\n",
      "fishnet\n",
      "fishnet_label\n",
      "Parks_Merge_Intersect2\n",
      "fishnet_sidewalk_intersect\n",
      "fishnet_sidewalks_Intersect\n",
      "Seattle_Streets\n",
      "Seattle_Streets_poly\n",
      "trails\n",
      "trails_Intersect\n",
      "fishnet_ExportFeatures\n",
      "fishnet_dataframe\n",
      "Streets\n",
      "Streets_Intersect\n"
     ]
    }
   ],
   "source": [
    "gdb_path = r\"C:\\Users\\rtvpd\\OneDrive\\Documentos\\ArcGIS\\Projects\\Walkability_Seattle\\Walkability_Seattle.gdb\"\n",
    "\n",
    "# Set the workspace to the geodatabase\n",
    "arcpy.env.workspace = gdb_path\n",
    "\n",
    "# List all feature classes in the geodatabase\n",
    "feature_classes = arcpy.ListFeatureClasses()\n",
    "print(\"Feature Classes in the Geodatabase:\")\n",
    "for fc in feature_classes:\n",
    "    print(fc)"
   ]
  },
  {
   "cell_type": "code",
   "execution_count": 3,
   "metadata": {
    "scrolled": true
   },
   "outputs": [
    {
     "name": "stdout",
     "output_type": "stream",
     "text": [
      "Field Names and Types:\n",
      "Name: OBJECTID, Type: OID, Alias: OID\n",
      "Name: Shape, Type: Geometry, Alias: Shape\n",
      "Name: FID_fishnet, Type: Integer, Alias: FID_fishnet\n",
      "Name: SUM_Park_Area, Type: Double, Alias: SUM_Park_Area\n",
      "Name: FID_fishnet_1, Type: Integer, Alias: FID_fishnet\n",
      "Name: FREQUENCY, Type: Integer, Alias: FREQUENCY\n",
      "Name: FIRST_SURFTYPE, Type: String, Alias: FIRST_SURFTYPE\n",
      "Name: FIRST_CURBTYPE, Type: String, Alias: FIRST_CURBTYPE\n",
      "Name: FIRST_CONDITION, Type: String, Alias: FIRST_CONDITION\n",
      "Name: SUM_SW_length, Type: Double, Alias: SUM_SW_length\n",
      "Name: SUM_SW_WIDTH, Type: Double, Alias: SUM_SW_WIDTH\n",
      "Name: SUM_SW_area, Type: Double, Alias: SUM_SW_area\n",
      "Name: SLOPE_MIN, Type: Double, Alias: SLOPE_MIN\n",
      "Name: SLOPE_MAX, Type: Double, Alias: SLOPE_MAX\n",
      "Name: SLOPE_MEAN, Type: Double, Alias: SLOPE_MEAN\n",
      "Name: SUM_trail_area, Type: Double, Alias: SUM_trail_area\n",
      "Name: SUM_trail_length, Type: Double, Alias: SUM_trail_length\n",
      "Name: MEAN_trail_GRADE_PERC, Type: Double, Alias: MEAN_trail_GRADE_PERC\n",
      "Name: NORM_slope_mean, Type: Double, Alias: NORM_slope_mean\n",
      "Name: NORM_slope_min, Type: Double, Alias: NORM_slope_min\n",
      "Name: NORM_slope_max, Type: Double, Alias: NORM_slope_max\n",
      "Name: NORM_trail_grade, Type: Double, Alias: NORM_trail_grade\n",
      "Name: Shape_Length, Type: Double, Alias: Shape_Length\n",
      "Name: Shape_Area, Type: Double, Alias: Shape_Area\n",
      "Name: NORM_SUM_SW_length, Type: Double, Alias: NORM_SUM_SW_length\n",
      "Name: NORM_SUM_SW_WIDTH, Type: Double, Alias: NORM_SUM_SW_WIDTH\n",
      "Name: NORM_SUM_SW_area, Type: Double, Alias: NORM_SUM_SW_area\n",
      "Name: NORM_SUM_trail_area, Type: Double, Alias: NORM_SUM_trail_area\n",
      "Name: NORM_SUM_trail_length, Type: Double, Alias: NORM_SUM_trail_length\n",
      "Name: NORM_MEAN_trail_GRADE_PERC, Type: Double, Alias: NORM_MEAN_trail_GRADE_PERC\n",
      "Name: NORM_SUM_Park_Area, Type: Double, Alias: NORM_SUM_Park_Area\n",
      "Name: walk_score, Type: Double, Alias: walk_score\n",
      "Name: sidewalk_score, Type: Double, Alias: sidewalk_score\n",
      "Name: park_score, Type: Double, Alias: park_score\n",
      "Name: trail_score, Type: Double, Alias: trail_score\n",
      "Name: Field, Type: Integer, Alias: Field\n"
     ]
    }
   ],
   "source": [
    "gdb_path = r\"C:\\Users\\rtvpd\\OneDrive\\Documentos\\ArcGIS\\Projects\\Walkability_Seattle\\Walkability_Seattle.gdb\"\n",
    "exported_fishnet_layer = r\"C:\\Users\\rtvpd\\OneDrive\\Documentos\\ArcGIS\\Projects\\Walkability_Seattle\\Walkability_Seattle.gdb\\fishnet_dataframe\"\n",
    "\n",
    "# Set the workspace to the geodatabase\n",
    "arcpy.env.workspace = gdb_path\n",
    "\n",
    "# List all fields in the exported fishnet layer\n",
    "fields = arcpy.ListFields(exported_fishnet_layer)\n",
    "\n",
    "# Print field names and types\n",
    "print(\"Field Names and Types:\")\n",
    "for field in fields:\n",
    "    print(f\"Name: {field.name}, Type: {field.type}, Alias: {field.aliasName}\")"
   ]
  },
  {
   "cell_type": "code",
   "execution_count": 83,
   "metadata": {},
   "outputs": [
    {
     "name": "stdout",
     "output_type": "stream",
     "text": [
      "Field Names in the Layer:\n",
      "OBJECTID\n",
      "Shape\n",
      "FID_fishnet\n",
      "SUM_Park_Area\n",
      "FID_fishnet_1\n",
      "FREQUENCY\n",
      "FIRST_SURFTYPE\n",
      "FIRST_CURBTYPE\n",
      "FIRST_CONDITION\n",
      "SUM_SW_length\n",
      "SUM_SW_WIDTH\n",
      "SUM_SW_area\n",
      "SLOPE_MIN\n",
      "SLOPE_MAX\n",
      "SLOPE_MEAN\n",
      "SUM_trail_area\n",
      "SUM_trail_length\n",
      "MEAN_trail_GRADE_PERC\n",
      "NORM_slope_mean\n",
      "NORM_slope_min\n",
      "NORM_slope_max\n",
      "NORM_trail_grade\n",
      "Shape_Length\n",
      "Shape_Area\n",
      "NORM_SUM_SW_length\n",
      "NORM_SUM_SW_WIDTH\n",
      "NORM_SUM_SW_area\n",
      "NORM_SUM_trail_area\n",
      "NORM_SUM_trail_length\n",
      "NORM_MEAN_trail_GRADE_PERC\n",
      "NORM_SUM_Park_Area\n",
      "walk_score\n",
      "sidewalk_score\n",
      "park_score\n",
      "trail_score\n",
      "Normalization complete for SUM_Park_Area.\n",
      "Normalization complete for SUM_SW_length.\n",
      "Normalization complete for SUM_SW_WIDTH.\n",
      "Normalization complete for SUM_SW_area.\n",
      "Normalization complete for SLOPE_MIN.\n",
      "Normalization complete for SLOPE_MAX.\n",
      "Normalization complete for SLOPE_MEAN.\n",
      "Normalization complete for SUM_trail_area.\n",
      "Normalization complete for SUM_trail_length.\n",
      "Normalization complete for MEAN_trail_GRADE_PERC.\n"
     ]
    }
   ],
   "source": [
    "gdb_path = r\"C:\\Users\\rtvpd\\OneDrive\\Documentos\\ArcGIS\\Projects\\Walkability_Seattle\\Walkability_Seattle.gdb\"\n",
    "fishnet_layer = r\"C:\\Users\\rtvpd\\OneDrive\\Documentos\\ArcGIS\\Projects\\Walkability_Seattle\\Walkability_Seattle.gdb\\fishnet_dataframe\"\n",
    "\n",
    "# Define the list of fields to normalize\n",
    "field_list = [\n",
    "    \"SUM_Park_Area\",\n",
    "    \"SUM_SW_length\",\n",
    "    \"SUM_SW_WIDTH\",\n",
    "    \"SUM_SW_area\",\n",
    "    \"SLOPE_MIN\",\n",
    "    \"SLOPE_MAX\",\n",
    "    \"SLOPE_MEAN\",\n",
    "    \"SUM_trail_area\",\n",
    "    \"SUM_trail_length\",\n",
    "    \"MEAN_trail_GRADE_PERC\"\n",
    "]\n",
    "\n",
    "def normalize_field(layer, field_name, norm_field_name):\n",
    "    try:\n",
    "        # Calculate min and max values for the specified field\n",
    "        with arcpy.da.SearchCursor(layer, [field_name]) as cursor:\n",
    "            values = [row[0] for row in cursor if row[0] is not None]\n",
    "            if not values:\n",
    "                print(f\"No values found for {field_name}. Skipping normalization.\")\n",
    "                return\n",
    "            min_value = min(values)\n",
    "            max_value = max(values)\n",
    "        \n",
    "        # Add new field for normalized values if it does not already exist\n",
    "        if not any(f.name == norm_field_name for f in arcpy.ListFields(layer)):\n",
    "            arcpy.management.AddField(layer, norm_field_name, \"DOUBLE\")\n",
    "        \n",
    "        # Normalize the data and store in the new field\n",
    "        with arcpy.da.UpdateCursor(layer, [field_name, norm_field_name]) as cursor:\n",
    "            for row in cursor:\n",
    "                if row[0] is not None:\n",
    "                    row[1] = (row[0] - min_value) / (max_value - min_value)\n",
    "                else:\n",
    "                    row[1] = None\n",
    "                cursor.updateRow(row)\n",
    "        print(f\"Normalization complete for {field_name}.\")\n",
    "    except Exception as e:\n",
    "        print(f\"Error processing field {field_name}: {e}\")\n",
    "\n",
    "# Set the workspace to the geodatabase\n",
    "arcpy.env.workspace = gdb_path\n",
    "\n",
    "# List all fields in the fishnet layer to verify field names\n",
    "fields = arcpy.ListFields(fishnet_layer)\n",
    "field_names = [field.name for field in fields]\n",
    "\n",
    "# Print field names to verify\n",
    "print(\"Field Names in the Layer:\")\n",
    "for field in field_names:\n",
    "    print(field)\n",
    "\n",
    "# Normalize each field in the field_list\n",
    "for field in field_list:\n",
    "    if field in field_names:\n",
    "        norm_field = \"NORM_\" + field\n",
    "        normalize_field(fishnet_layer, field, norm_field)\n",
    "    else:\n",
    "        print(f\"Field {field} not found in the layer. Skipping.\")"
   ]
  },
  {
   "cell_type": "markdown",
   "metadata": {},
   "source": [
    "# Calculating Walkscore"
   ]
  },
  {
   "cell_type": "markdown",
   "metadata": {},
   "source": [
    "#### Setup"
   ]
  },
  {
   "cell_type": "code",
   "execution_count": 70,
   "metadata": {},
   "outputs": [],
   "source": [
    "sidewalk_score_field = 'sidewalk_score'\n",
    "park_score_field = 'park_score'\n",
    "trail_score_field = 'trail_score'\n",
    "walkscore_field = 'walk_score'"
   ]
  },
  {
   "cell_type": "code",
   "execution_count": 71,
   "metadata": {},
   "outputs": [],
   "source": [
    "weights = {\n",
    "    sidewalk_score_field: 0.5,\n",
    "    park_score_field: 0.3,\n",
    "    trail_score_field: 0.2\n",
    "}"
   ]
  },
  {
   "cell_type": "code",
   "execution_count": 75,
   "metadata": {},
   "outputs": [],
   "source": [
    "assert sum(weights.values()) == 1.0, \"The weights must sum up to 1.0\"\n",
    "for score_field in [sidewalk_score_field, park_score_field, trail_score_field, walkscore_field]:\n",
    "    if not any(f.name == score_field for f in arcpy.ListFields(fishnet_layer)):\n",
    "        arcpy.management.AddField(fishnet_layer, score_field, \"DOUBLE\")"
   ]
  },
  {
   "cell_type": "markdown",
   "metadata": {},
   "source": [
    "### Score Component Definitions"
   ]
  },
  {
   "cell_type": "code",
   "execution_count": 73,
   "metadata": {},
   "outputs": [],
   "source": [
    "norm_fields = [sidewalk_score_field, park_score_field, trail_score_field]"
   ]
  },
  {
   "cell_type": "code",
   "execution_count": 84,
   "metadata": {},
   "outputs": [],
   "source": [
    "sidewalk_score_components = ['NORM_SUM_SW_area']\n",
    "park_score_components = ['NORM_SUM_park_area']\n",
    "trail_score_components = ['NORM_SUM_trail_area']"
   ]
  },
  {
   "cell_type": "code",
   "execution_count": 85,
   "metadata": {},
   "outputs": [],
   "source": [
    "with arcpy.da.UpdateCursor(fishnet_layer, sidewalk_score_components + park_score_components + trail_score_components + [sidewalk_score_field, park_score_field, trail_score_field]) as cursor:\n",
    "    for row in cursor:\n",
    "        # Calculate sidewalk score\n",
    "        sidewalk_score = sum(row[i] for i in range(len(sidewalk_score_components)) if row[i] is not None)\n",
    "        row[len(sidewalk_score_components + park_score_components + trail_score_components)] = sidewalk_score\n",
    "\n",
    "        # Calculate park score\n",
    "        park_score = sum(row[i + len(sidewalk_score_components)] for i in range(len(park_score_components)) if row[i + len(sidewalk_score_components)] is not None)\n",
    "        row[len(sidewalk_score_components + park_score_components + trail_score_components) + 1] = park_score\n",
    "\n",
    "        # Calculate trail score\n",
    "        trail_score = sum(row[i + len(sidewalk_score_components + park_score_components)] for i in range(len(trail_score_components)) if row[i + len(sidewalk_score_components + park_score_components)] is not None)\n",
    "        row[len(sidewalk_score_components + park_score_components + trail_score_components) + 2] = trail_score\n",
    "\n",
    "        cursor.updateRow(row)"
   ]
  },
  {
   "cell_type": "code",
   "execution_count": 86,
   "metadata": {},
   "outputs": [
    {
     "name": "stdout",
     "output_type": "stream",
     "text": [
      "Aggregated walkscore calculation complete.\n"
     ]
    }
   ],
   "source": [
    "with arcpy.da.UpdateCursor(fishnet_layer, norm_fields + [walkscore_field]) as cursor:\n",
    "    for row in cursor:\n",
    "        walkscore = sum(row[i] * weights[norm_fields[i]] for i in range(len(norm_fields)) if row[i] is not None)\n",
    "        row[-1] = walkscore\n",
    "        cursor.updateRow(row)\n",
    "\n",
    "print(\"Aggregated walkscore calculation complete.\")"
   ]
  },
  {
   "cell_type": "code",
   "execution_count": null,
   "metadata": {},
   "outputs": [],
   "source": []
  },
  {
   "cell_type": "code",
   "execution_count": null,
   "metadata": {},
   "outputs": [],
   "source": []
  },
  {
   "cell_type": "code",
   "execution_count": 6,
   "metadata": {},
   "outputs": [
    {
     "name": "stdout",
     "output_type": "stream",
     "text": [
      "Exported BKF-BBL to C:\\Users\\rtvpd\\OneDrive\\Documentos\\ArcGIS\\Projects\\Walkability_Seattle\\Walkability_Seattle.gdb\\Bike_facilities_BKF_BBL\n",
      "Exported BKF-BL to C:\\Users\\rtvpd\\OneDrive\\Documentos\\ArcGIS\\Projects\\Walkability_Seattle\\Walkability_Seattle.gdb\\Bike_facilities_BKF_BL\n",
      "Exported BKF-CLMB to C:\\Users\\rtvpd\\OneDrive\\Documentos\\ArcGIS\\Projects\\Walkability_Seattle\\Walkability_Seattle.gdb\\Bike_facilities_BKF_CLMB\n",
      "Exported BKF-NGW to C:\\Users\\rtvpd\\OneDrive\\Documentos\\ArcGIS\\Projects\\Walkability_Seattle\\Walkability_Seattle.gdb\\Bike_facilities_BKF_NGW\n",
      "Exported BKF-OFFST to C:\\Users\\rtvpd\\OneDrive\\Documentos\\ArcGIS\\Projects\\Walkability_Seattle\\Walkability_Seattle.gdb\\Bike_facilities_BKF_OFFST\n",
      "Exported BKF-PBL to C:\\Users\\rtvpd\\OneDrive\\Documentos\\ArcGIS\\Projects\\Walkability_Seattle\\Walkability_Seattle.gdb\\Bike_facilities_BKF_PBL\n",
      "Exported BKF-SHW to C:\\Users\\rtvpd\\OneDrive\\Documentos\\ArcGIS\\Projects\\Walkability_Seattle\\Walkability_Seattle.gdb\\Bike_facilities_BKF_SHW\n",
      "Feature export complete.\n"
     ]
    }
   ],
   "source": [
    "input_layer = r\"C:\\Users\\rtvpd\\OneDrive\\Documentos\\ArcGIS\\Projects\\Walkability_Seattle\\Walkability_Seattle.gdb\\Bike_facilities\"\n",
    "output_gdb = r\"C:\\Users\\rtvpd\\OneDrive\\Documentos\\ArcGIS\\Projects\\Walkability_Seattle\\Walkability_Seattle.gdb\"\n",
    "\n",
    "# List of unique categories\n",
    "categories = [\n",
    "    'BKF-BBL',\n",
    "    'BKF-BL',\n",
    "    'BKF-CLMB',\n",
    "    'BKF-NGW',\n",
    "    'BKF-OFFST',\n",
    "    'BKF-PBL',\n",
    "    'BKF-SHW'\n",
    "]\n",
    "\n",
    "# Loop through each category and export features\n",
    "for category in categories:\n",
    "    # Sanitize the category name to create a valid feature class name\n",
    "    sanitized_category = category.replace(\"-\", \"_\").replace(\" \", \"_\")\n",
    "    output_feature_class = f\"{output_gdb}\\\\Bike_facilities_{sanitized_category}\"\n",
    "    \n",
    "    # Create SQL query\n",
    "    query = f\"\\\"CATEGORY\\\" = '{category}'\"\n",
    "    \n",
    "    # Make a feature layer from the input data\n",
    "    arcpy.management.MakeFeatureLayer(input_layer, \"temp_layer\")\n",
    "    \n",
    "    # Select features by category\n",
    "    arcpy.management.SelectLayerByAttribute(\"temp_layer\", \"NEW_SELECTION\", query)\n",
    "    \n",
    "    # Export selected features to a new feature class\n",
    "    arcpy.management.CopyFeatures(\"temp_layer\", output_feature_class)\n",
    "    \n",
    "    # Delete the temporary layer\n",
    "    arcpy.management.Delete(\"temp_layer\")\n",
    "    \n",
    "    print(f\"Exported {category} to {output_feature_class}\")\n",
    "\n",
    "print(\"Feature export complete.\")"
   ]
  },
  {
   "cell_type": "code",
   "execution_count": null,
   "metadata": {},
   "outputs": [],
   "source": []
  }
 ],
 "metadata": {
  "kernelspec": {
   "display_name": "Python 3 (ipykernel)",
   "language": "python",
   "name": "python3"
  },
  "language_info": {
   "file_extension": ".py",
   "name": "python",
   "version": "3"
  }
 },
 "nbformat": 4,
 "nbformat_minor": 2
}
